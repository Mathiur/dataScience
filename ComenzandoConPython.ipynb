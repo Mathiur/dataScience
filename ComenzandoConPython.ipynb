{
  "nbformat": 4,
  "nbformat_minor": 0,
  "metadata": {
    "colab": {
      "provenance": [],
      "authorship_tag": "ABX9TyN9nWD7jtZLBqVCu60WxHeL",
      "include_colab_link": true
    },
    "kernelspec": {
      "name": "python3",
      "display_name": "Python 3"
    },
    "language_info": {
      "name": "python"
    }
  },
  "cells": [
    {
      "cell_type": "markdown",
      "metadata": {
        "id": "view-in-github",
        "colab_type": "text"
      },
      "source": [
        "<a href=\"https://colab.research.google.com/github/Mathiur/dataScience/blob/master/ComenzandoConPython.ipynb\" target=\"_parent\"><img src=\"https://colab.research.google.com/assets/colab-badge.svg\" alt=\"Open In Colab\"/></a>"
      ]
    },
    {
      "cell_type": "code",
      "execution_count": 3,
      "metadata": {
        "colab": {
          "base_uri": "https://localhost:8080/"
        },
        "id": "gC1Rz5D_i0Hl",
        "outputId": "f0de253d-7cb5-4e9d-9a70-ee2fe799eb59"
      },
      "outputs": [
        {
          "output_type": "stream",
          "name": "stdout",
          "text": [
            "Escuela de Datos de Alura\n"
          ]
        }
      ],
      "source": [
        "print(\"Escuela de Datos de Alura\")"
      ]
    },
    {
      "cell_type": "code",
      "source": [
        "print(\"Nombre:Mateo\" )\n",
        "print(\"Apellido:Pinzon\" )"
      ],
      "metadata": {
        "colab": {
          "base_uri": "https://localhost:8080/"
        },
        "id": "INJYLSdajHtY",
        "outputId": "d8105963-9caf-4c26-84fa-0433e56d2b53"
      },
      "execution_count": 7,
      "outputs": [
        {
          "output_type": "stream",
          "name": "stdout",
          "text": [
            "Nombre:Mateo\n",
            "Apellido:Pinzon\n"
          ]
        }
      ]
    },
    {
      "cell_type": "code",
      "source": [
        "print(\"M\")\n",
        "print(\"A\")\n",
        "print(\"T\")\n",
        "print(\"E\")\n",
        "print(\"O\")"
      ],
      "metadata": {
        "colab": {
          "base_uri": "https://localhost:8080/"
        },
        "id": "De87DFxSjYPb",
        "outputId": "4cdc60d0-94d9-42a4-b056-120b328dba64"
      },
      "execution_count": 8,
      "outputs": [
        {
          "output_type": "stream",
          "name": "stdout",
          "text": [
            "M\n",
            "A\n",
            "T\n",
            "E\n",
            "O\n"
          ]
        }
      ]
    },
    {
      "cell_type": "code",
      "source": [
        "dia = 19;\n",
        "anio = 2005;\n",
        "print(dia,\"septiembre\",anio)"
      ],
      "metadata": {
        "colab": {
          "base_uri": "https://localhost:8080/"
        },
        "id": "uf40i6vsjuto",
        "outputId": "c1943e6f-4727-4dfa-c75c-29cbf3f8da10"
      },
      "execution_count": 14,
      "outputs": [
        {
          "output_type": "stream",
          "name": "stdout",
          "text": [
            "19 septiembre 2005\n"
          ]
        }
      ]
    },
    {
      "cell_type": "code",
      "source": [
        "print(\"Año actual:\", 2025)"
      ],
      "metadata": {
        "colab": {
          "base_uri": "https://localhost:8080/"
        },
        "id": "8kjBjxKrj5Lz",
        "outputId": "1342304d-ebdc-4ce6-deef-49881217ae85"
      },
      "execution_count": 16,
      "outputs": [
        {
          "output_type": "stream",
          "name": "stdout",
          "text": [
            "Año actual: 2025\n"
          ]
        }
      ]
    },
    {
      "cell_type": "code",
      "source": [],
      "metadata": {
        "id": "T5RNDJWTkTvU"
      },
      "execution_count": null,
      "outputs": []
    }
  ]
}